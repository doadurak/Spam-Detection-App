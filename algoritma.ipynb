{
 "cells": [
  {
   "cell_type": "code",
   "execution_count": 1,
   "id": "6c9428df-b9aa-4f5e-b38e-0bfecf7b4731",
   "metadata": {},
   "outputs": [],
   "source": [
    "import pandas as pd\n",
    "import numpy as np\n",
    "from sklearn.model_selection import train_test_split\n",
    "from sklearn.metrics import accuracy_score\n",
    "from sklearn.ensemble import RandomForestClassifier\n",
    "from sklearn.linear_model import LogisticRegression\n",
    "from sklearn.svm import SVC\n",
    "from sklearn.tree import DecisionTreeClassifier\n",
    "from sklearn.neighbors import KNeighborsClassifier\n",
    "from sklearn.naive_bayes import GaussianNB\n",
    "from sklearn.ensemble import GradientBoostingClassifier\n",
    "from sklearn.ensemble import AdaBoostClassifier\n",
    "from sklearn.ensemble import BaggingClassifier\n",
    "from sklearn.ensemble import ExtraTreesClassifier\n",
    "import joblib\n"
   ]
  },
  {
   "cell_type": "code",
   "execution_count": 2,
   "id": "efe30d94-26b0-405c-b3e9-771a6fb840e3",
   "metadata": {},
   "outputs": [
    {
     "name": "stdout",
     "output_type": "stream",
     "text": [
      "Veri seti başarıyla yüklendi ve bölümlendi!\n"
     ]
    }
   ],
   "source": [
    "df = pd.read_csv(\"veri.csv\")\n",
    "X = df.drop(\"is_spam\", axis=1)\n",
    "y = df[\"is_spam\"]\n",
    "\n",
    "X_train, X_test, y_train, y_test = train_test_split(X, y, test_size=0.2, random_state=42)\n",
    "\n",
    "print(\"Veri seti başarıyla yüklendi ve bölümlendi!\")"
   ]
  },
  {
   "cell_type": "code",
   "execution_count": 3,
   "id": "12c3a9ff-b62a-4f7d-a2e3-f5504260ce2d",
   "metadata": {},
   "outputs": [
    {
     "name": "stdout",
     "output_type": "stream",
     "text": [
      "Random Forest: Accuracy = 0.8050\n",
      "Logistic Regression: Accuracy = 0.8350\n",
      "Support Vector Machine: Accuracy = 0.8350\n",
      "Decision Tree: Accuracy = 0.7200\n",
      "K-Nearest Neighbors: Accuracy = 0.7900\n",
      "Naive Bayes: Accuracy = 0.8350\n",
      "Gradient Boosting: Accuracy = 0.8150\n",
      "AdaBoost: Accuracy = 0.8350\n",
      "Bagging Classifier: Accuracy = 0.8000\n",
      "Extra Trees: Accuracy = 0.8100\n"
     ]
    }
   ],
   "source": [
    "algorithms = {\n",
    "    \"Random Forest\": RandomForestClassifier(),\n",
    "    \"Logistic Regression\": LogisticRegression(max_iter=1000),\n",
    "    \"Support Vector Machine\": SVC(),\n",
    "    \"Decision Tree\": DecisionTreeClassifier(),\n",
    "    \"K-Nearest Neighbors\": KNeighborsClassifier(),\n",
    "    \"Naive Bayes\": GaussianNB(),\n",
    "    \"Gradient Boosting\": GradientBoostingClassifier(),\n",
    "    \"AdaBoost\": AdaBoostClassifier(),\n",
    "    \"Bagging Classifier\": BaggingClassifier(),\n",
    "    \"Extra Trees\": ExtraTreesClassifier()\n",
    "}\n",
    "\n",
    "results = {}\n",
    "\n",
    "for name, model in algorithms.items():\n",
    "    model.fit(X_train, y_train)  \n",
    "    y_pred = model.predict(X_test)  \n",
    "    accuracy = accuracy_score(y_test, y_pred)  \n",
    "    results[name] = accuracy\n",
    "    print(f\"{name}: Accuracy = {accuracy:.4f}\")"
   ]
  },
  {
   "cell_type": "code",
   "execution_count": 4,
   "id": "620ce161-be89-4d67-a3d6-c732c2e930b8",
   "metadata": {},
   "outputs": [
    {
     "name": "stdout",
     "output_type": "stream",
     "text": [
      "En iyi model 'Logistic Regression' başarıyla kaydedildi!\n"
     ]
    }
   ],
   "source": [
    "best_model_name = max(results, key=results.get)\n",
    "best_model = algorithms[best_model_name]\n",
    "joblib.dump(best_model, \"eniyi.joblib\")\n",
    "print(f\"En iyi model '{best_model_name}' başarıyla kaydedildi!\")"
   ]
  },
  {
   "cell_type": "code",
   "execution_count": 5,
   "id": "bb58b434-f1dd-4865-b564-89dda269dcde",
   "metadata": {},
   "outputs": [
    {
     "name": "stdout",
     "output_type": "stream",
     "text": [
      "\n",
      "Algoritmaların Performansı:\n",
      "Logistic Regression: 0.8350\n",
      "Support Vector Machine: 0.8350\n",
      "Naive Bayes: 0.8350\n",
      "AdaBoost: 0.8350\n",
      "Gradient Boosting: 0.8150\n",
      "Extra Trees: 0.8100\n",
      "Random Forest: 0.8050\n",
      "Bagging Classifier: 0.8000\n",
      "K-Nearest Neighbors: 0.7900\n",
      "Decision Tree: 0.7200\n"
     ]
    }
   ],
   "source": [
    "sorted_results = sorted(results.items(), key=lambda x: x[1], reverse=True)\n",
    "print(\"\\nAlgoritmaların Performansı:\")\n",
    "for name, accuracy in sorted_results:\n",
    "    print(f\"{name}: {accuracy:.4f}\")"
   ]
  },
  {
   "cell_type": "code",
   "execution_count": null,
   "id": "d0907cd9-3b50-473a-afc1-05a8a9c46d5e",
   "metadata": {},
   "outputs": [],
   "source": []
  }
 ],
 "metadata": {
  "kernelspec": {
   "display_name": "Python 3 (ipykernel)",
   "language": "python",
   "name": "python3"
  },
  "language_info": {
   "codemirror_mode": {
    "name": "ipython",
    "version": 3
   },
   "file_extension": ".py",
   "mimetype": "text/x-python",
   "name": "python",
   "nbconvert_exporter": "python",
   "pygments_lexer": "ipython3",
   "version": "3.9.20"
  }
 },
 "nbformat": 4,
 "nbformat_minor": 5
}
